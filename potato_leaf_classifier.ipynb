{
 "cells": [
  {
   "cell_type": "code",
   "execution_count": 68,
   "id": "c4bb384b",
   "metadata": {},
   "outputs": [],
   "source": [
    "import numpy as np\n",
    "import tensorflow as tf\n",
    "from tensorflow.keras.preprocessing.image import ImageDataGenerator\n",
    "from tensorflow.keras.applications import VGG16\n",
    "from tensorflow.keras.layers import Dense, GlobalAveragePooling2D\n",
    "from tensorflow.keras.models import Model\n",
    "from sklearn.model_selection import train_test_split"
   ]
  },
  {
   "cell_type": "code",
   "execution_count": 69,
   "id": "76f0a1e2",
   "metadata": {},
   "outputs": [],
   "source": [
    "train_datagen = ImageDataGenerator(\n",
    "    rescale=1./255,\n",
    "    rotation_range=20,\n",
    "    width_shift_range=0.2,\n",
    "    height_shift_range=0.2,\n",
    "    horizontal_flip=True,\n",
    "    validation_split=0.15  # Reserve 15% of the data for validation\n",
    ")"
   ]
  },
  {
   "cell_type": "code",
   "execution_count": 70,
   "id": "c5248bf9",
   "metadata": {},
   "outputs": [
    {
     "name": "stdout",
     "output_type": "stream",
     "text": [
      "Found 1830 images belonging to 3 classes.\n"
     ]
    }
   ],
   "source": [
    "train_generator = train_datagen.flow_from_directory(\n",
    "    \"C:\\projects\\data\",\n",
    "    target_size=(224, 224),\n",
    "    batch_size=32,\n",
    "    class_mode='categorical',\n",
    "    subset='training'\n",
    ")\n"
   ]
  },
  {
   "cell_type": "code",
   "execution_count": 71,
   "id": "5dec5b57",
   "metadata": {},
   "outputs": [
    {
     "name": "stdout",
     "output_type": "stream",
     "text": [
      "Found 322 images belonging to 3 classes.\n"
     ]
    }
   ],
   "source": [
    "validation_generator = train_datagen.flow_from_directory(\n",
    "    \"C:\\projects\\data\",\n",
    "    target_size=(224, 224),\n",
    "    batch_size=32,\n",
    "    class_mode='categorical',\n",
    "    subset='validation'\n",
    ")"
   ]
  },
  {
   "cell_type": "code",
   "execution_count": 72,
   "id": "4e45d3a2",
   "metadata": {},
   "outputs": [],
   "source": [
    "# Load pre-trained VGG16 model without top layers\n",
    "base_model = VGG16(weights='imagenet', include_top=False, input_shape=(224, 224, 3))\n",
    "# Define the number of classes based on your dataset\n",
    "num_classes = len(train_generator.class_indices)\n",
    "\n",
    "# Add custom classification layers\n",
    "x = base_model.output\n",
    "x = GlobalAveragePooling2D()(x)\n",
    "x = Dense(1024, activation='relu')(x)\n",
    "predictions = Dense(num_classes, activation='softmax')(x)"
   ]
  },
  {
   "cell_type": "code",
   "execution_count": 73,
   "id": "cdf57af2",
   "metadata": {},
   "outputs": [],
   "source": [
    "# Combine base model with custom layers\n",
    "model = Model(inputs=base_model.input, outputs=predictions)\n",
    "\n",
    "# Freeze pre-trained layers\n",
    "for layer in base_model.layers:\n",
    "    layer.trainable = False\n",
    "\n",
    "# Compile the model\n",
    "model.compile(optimizer='adam', loss='categorical_crossentropy', metrics=['accuracy'])\n"
   ]
  },
  {
   "cell_type": "code",
   "execution_count": 74,
   "id": "3794b489",
   "metadata": {},
   "outputs": [
    {
     "name": "stdout",
     "output_type": "stream",
     "text": [
      "Epoch 1/10\n",
      "57/57 [==============================] - 212s 4s/step - loss: 0.6092 - accuracy: 0.7347 - val_loss: 0.3964 - val_accuracy: 0.8469\n",
      "Epoch 2/10\n",
      "57/57 [==============================] - 147s 3s/step - loss: 0.3682 - accuracy: 0.8548 - val_loss: 0.2841 - val_accuracy: 0.9000\n",
      "Epoch 3/10\n",
      "57/57 [==============================] - 148s 3s/step - loss: 0.2790 - accuracy: 0.9010 - val_loss: 0.2223 - val_accuracy: 0.9250\n",
      "Epoch 4/10\n",
      "57/57 [==============================] - 170s 3s/step - loss: 0.2592 - accuracy: 0.8993 - val_loss: 0.2850 - val_accuracy: 0.8750\n",
      "Epoch 5/10\n",
      "57/57 [==============================] - 181s 3s/step - loss: 0.2263 - accuracy: 0.9138 - val_loss: 0.1632 - val_accuracy: 0.9625\n",
      "Epoch 6/10\n",
      "57/57 [==============================] - 182s 3s/step - loss: 0.2058 - accuracy: 0.9238 - val_loss: 0.2112 - val_accuracy: 0.9156\n",
      "Epoch 7/10\n",
      "57/57 [==============================] - 190s 3s/step - loss: 0.2033 - accuracy: 0.9194 - val_loss: 0.2196 - val_accuracy: 0.8969\n",
      "Epoch 8/10\n",
      "57/57 [==============================] - 190s 3s/step - loss: 0.1761 - accuracy: 0.9372 - val_loss: 0.1828 - val_accuracy: 0.9344\n",
      "Epoch 9/10\n",
      "57/57 [==============================] - 159s 3s/step - loss: 0.1750 - accuracy: 0.9405 - val_loss: 0.1457 - val_accuracy: 0.9406\n",
      "Epoch 10/10\n",
      "57/57 [==============================] - 148s 3s/step - loss: 0.1915 - accuracy: 0.9244 - val_loss: 0.1728 - val_accuracy: 0.9406\n"
     ]
    },
    {
     "data": {
      "text/plain": [
       "<keras.callbacks.History at 0x127839aadd0>"
      ]
     },
     "execution_count": 74,
     "metadata": {},
     "output_type": "execute_result"
    }
   ],
   "source": [
    "# Train the model\n",
    "model.fit(\n",
    "    train_generator,\n",
    "    steps_per_epoch=train_generator.samples // train_generator.batch_size,\n",
    "    epochs=10,\n",
    "    validation_data=validation_generator,\n",
    "    validation_steps=validation_generator.samples // validation_generator.batch_size\n",
    ")\n"
   ]
  },
  {
   "cell_type": "code",
   "execution_count": 75,
   "id": "8456ddfe",
   "metadata": {},
   "outputs": [
    {
     "name": "stdout",
     "output_type": "stream",
     "text": [
      "11/11 [==============================] - 23s 2s/step - loss: 0.1594 - accuracy: 0.9348\n",
      "Validation Accuracy: 93.48%\n"
     ]
    }
   ],
   "source": [
    "# Evaluate the model\n",
    "loss, accuracy = model.evaluate(validation_generator)\n",
    "print(\"Validation Accuracy: {:.2f}%\".format(accuracy * 100))"
   ]
  },
  {
   "cell_type": "code",
   "execution_count": 76,
   "id": "10aebf33",
   "metadata": {},
   "outputs": [
    {
     "name": "stdout",
     "output_type": "stream",
     "text": [
      "11/11 [==============================] - 24s 2s/step - loss: 0.1443 - accuracy: 0.9441\n",
      "Validation Accuracy: 94.41%\n"
     ]
    }
   ],
   "source": [
    "from sklearn.metrics import classification_report, confusion_matrix\n",
    "\n",
    "# Evaluate the model on the validation set\n",
    "loss, accuracy = model.evaluate(validation_generator)\n",
    "print(\"Validation Accuracy: {:.2f}%\".format(accuracy * 100))\n"
   ]
  },
  {
   "cell_type": "code",
   "execution_count": 77,
   "id": "4ec1fa15",
   "metadata": {},
   "outputs": [
    {
     "name": "stdout",
     "output_type": "stream",
     "text": [
      "11/11 [==============================] - 23s 2s/step\n"
     ]
    }
   ],
   "source": [
    "# Generate predictions on the validation set\n",
    "validation_predictions = model.predict(validation_generator)\n",
    "predicted_classes = np.argmax(validation_predictions, axis=1)\n",
    "true_classes = validation_generator.classes\n"
   ]
  },
  {
   "cell_type": "code",
   "execution_count": 78,
   "id": "a7cc6e2f",
   "metadata": {},
   "outputs": [
    {
     "name": "stdout",
     "output_type": "stream",
     "text": [
      "Confusion Matrix:\n",
      "[[68 70 12]\n",
      " [68 74  8]\n",
      " [ 9 11  2]]\n"
     ]
    }
   ],
   "source": [
    "# Compute confusion matrix\n",
    "conf_matrix = confusion_matrix(true_classes, predicted_classes)\n",
    "print(\"Confusion Matrix:\")\n",
    "print(conf_matrix)"
   ]
  },
  {
   "cell_type": "code",
   "execution_count": 79,
   "id": "baebe456",
   "metadata": {},
   "outputs": [
    {
     "name": "stdout",
     "output_type": "stream",
     "text": [
      "Classification Report:\n",
      "                       precision    recall  f1-score   support\n",
      "\n",
      "Potato___Early_blight       0.47      0.45      0.46       150\n",
      " Potato___Late_blight       0.48      0.49      0.49       150\n",
      "     Potato___healthy       0.09      0.09      0.09        22\n",
      "\n",
      "             accuracy                           0.45       322\n",
      "            macro avg       0.35      0.35      0.35       322\n",
      "         weighted avg       0.45      0.45      0.45       322\n",
      "\n"
     ]
    }
   ],
   "source": [
    "# Compute classification report\n",
    "class_names = list(validation_generator.class_indices.keys())\n",
    "print(\"Classification Report:\")\n",
    "print(classification_report(true_classes, predicted_classes, target_names=class_names))\n"
   ]
  },
  {
   "cell_type": "code",
   "execution_count": 92,
   "id": "7e865cd1",
   "metadata": {},
   "outputs": [],
   "source": [
    "from tensorflow.keras.preprocessing import image\n",
    "import numpy as np\n",
    "\n",
    "# Load and preprocess the uploaded image\n",
    "img_path = r\"C:\\projects\\scrapping\\model\\Data\\download.webp\" # Update with the path to your uploaded image\n",
    "img = image.load_img(img_path, target_size=(224, 224))\n",
    "img_array = image.img_to_array(img)\n",
    "img_array = np.expand_dims(img_array, axis=0)\n",
    "img_array /= 255.  # Normalize pixel values\n"
   ]
  },
  {
   "cell_type": "code",
   "execution_count": 93,
   "id": "a6c043ed",
   "metadata": {},
   "outputs": [
    {
     "name": "stdout",
     "output_type": "stream",
     "text": [
      "1/1 [==============================] - 0s 98ms/step\n",
      "Predicted Class: Potato___healthy\n",
      "Confidence: 0.9511755\n"
     ]
    }
   ],
   "source": [
    "# Make predictions\n",
    "predictions = model.predict(img_array)\n",
    "\n",
    "# Interpret results\n",
    "class_names = list(train_generator.class_indices.keys())\n",
    "predicted_class_index = np.argmax(predictions)\n",
    "predicted_class = class_names[predicted_class_index]\n",
    "confidence = predictions[0][predicted_class_index]\n",
    "\n",
    "print(\"Predicted Class:\", predicted_class)\n",
    "print(\"Confidence:\", confidence)"
   ]
  },
  {
   "cell_type": "code",
   "execution_count": 94,
   "id": "ddc1a1d2",
   "metadata": {},
   "outputs": [],
   "source": [
    "model.save('potato_leaf_model.h5')"
   ]
  },
  {
   "cell_type": "code",
   "execution_count": null,
   "id": "643ea32c",
   "metadata": {},
   "outputs": [],
   "source": []
  }
 ],
 "metadata": {
  "kernelspec": {
   "display_name": "Python 3 (ipykernel)",
   "language": "python",
   "name": "python3"
  },
  "language_info": {
   "codemirror_mode": {
    "name": "ipython",
    "version": 3
   },
   "file_extension": ".py",
   "mimetype": "text/x-python",
   "name": "python",
   "nbconvert_exporter": "python",
   "pygments_lexer": "ipython3",
   "version": "3.11.5"
  }
 },
 "nbformat": 4,
 "nbformat_minor": 5
}
